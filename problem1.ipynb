{
 "cells": [
  {
   "cell_type": "code",
   "execution_count": 6,
   "metadata": {
    "collapsed": true
   },
   "outputs": [],
   "source": [
    "import matplotlib.pyplot as plt  \n",
    "import numpy as np \n"
   ]
  },
  {
   "cell_type": "code",
   "execution_count": 1,
   "metadata": {
    "collapsed": true
   },
   "outputs": [],
   "source": [
    "def f(x):\n",
    "    return x**3+x**2-3*x-3"
   ]
  },
  {
   "cell_type": "code",
   "execution_count": 3,
   "metadata": {
    "collapsed": true
   },
   "outputs": [],
   "source": [
    "m=1.0\n",
    "n=2.0"
   ]
  },
  {
   "cell_type": "code",
   "execution_count": 7,
   "metadata": {},
   "outputs": [
    {
     "data": {
      "image/png": "[encoded data removed]",
      "text/plain": [
       "<matplotlib.figure.Figure at 0x7fb8c3778110>"
      ]
     },
     "metadata": {},
     "output_type": "display_data"
    }
   ],
   "source": [
    "t = np.arange(m,n, 0.1)  \n",
    "s = f(t)  \n",
    "plt.plot(t, s)  \n",
    "plt.grid(True) \n",
    "plt.show()   "
   ]
  },
  {
   "cell_type": "code",
   "execution_count": 16,
   "metadata": {},
   "outputs": [
    {
     "name": "stdout",
     "output_type": "stream",
     "text": [
      "[ 1.5         1.6171875   1.67578125  1.70507812  1.71972656]\n"
     ]
    }
   ],
   "source": [
    "Nmax=5\n",
    "an=np.zeros(Nmax)\n",
    "an[0]=1.5\n",
    "for i in range(0,4):\n",
    "    if f(m)*f(an[i])<0:\n",
    "        m=m\n",
    "        n=an[i]\n",
    "        an[i+1]=(m+n)/2\n",
    "    else:\n",
    "        m=an[i]\n",
    "        n=n\n",
    "        an[i+1]=(m+n)/2\n",
    "    i=i+1\n",
    "print an"
   ]
  },
  {
   "cell_type": "code",
   "execution_count": 23,
   "metadata": {},
   "outputs": [
    {
     "name": "stdout",
     "output_type": "stream",
     "text": [
      "[ 0.23205081  0.11486331  0.05626956  0.02697268  0.01232425]\n",
      "[ 1.5         1.6171875   1.67578125  1.70507812  1.71972656]\n"
     ]
    }
   ],
   "source": [
    "er=np.zeros(Nmax)\n",
    "for i in range(0,Nmax):\n",
    "    er[i]=np.abs(an[i]-3**0.5)\n",
    "print(er)\n",
    "print(an)"
   ]
  },
  {
   "cell_type": "code",
   "execution_count": 24,
   "metadata": {},
   "outputs": [
    {
     "data": {
      "image/png": "[encoded data removed]",
      "text/plain": [
       "<matplotlib.figure.Figure at 0x7fb8d462f050>"
      ]
     },
     "metadata": {},
     "output_type": "display_data"
    }
   ],
   "source": [
    "plt.plot(er,an) \n",
    "plt.grid(True) \n",
    "plt.show()"
   ]
  },
  {
   "cell_type": "code",
   "execution_count": null,
   "metadata": {
    "collapsed": true
   },
   "outputs": [],
   "source": []
  }
 ],
 "metadata": {
  "kernelspec": {
   "display_name": "Python2",
   "language": "python",
   "name": "python2"
  },
  "language_info": {
   "codemirror_mode": {
    "name": "ipython",
    "version": 2
   },
   "file_extension": ".py",
   "mimetype": "text/x-python",
   "name": "python",
   "nbconvert_exporter": "python",
   "pygments_lexer": "ipython2",
   "version": "2.7.13"
  }
 },
 "nbformat": 4,
 "nbformat_minor": 2
}
